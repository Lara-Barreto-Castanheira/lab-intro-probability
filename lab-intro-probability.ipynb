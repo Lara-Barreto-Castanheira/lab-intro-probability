{
 "cells": [
  {
   "cell_type": "markdown",
   "metadata": {},
   "source": [
    "# Lab | Intro to Probability"
   ]
  },
  {
   "cell_type": "markdown",
   "metadata": {},
   "source": [
    "**Objective**\n",
    "\n",
    "Welcome to this Intro to Probability lab, where we explore decision-making scenarios through the lens of probability and strategic analysis. In the business world, making informed decisions is crucial, especially when faced with uncertainties. This lab focuses on scenarios where probabilistic outcomes play a significant role in shaping strategies and outcomes. Students will engage in exercises that require assessing and choosing optimal paths based on data-driven insights. The goal is to enhance your skills by applying probability concepts to solve real-world problems."
   ]
  },
  {
   "cell_type": "markdown",
   "metadata": {},
   "source": [
    "**Challenge 1**"
   ]
  },
  {
   "cell_type": "markdown",
   "metadata": {},
   "source": [
    "#### Ironhack Airlines \n",
    "\n",
    "Often Airlines sell more tickets than they have seats available, this is called overbooking. Consider the following:\n",
    "- A plane has 450 seats. \n",
    "- Based on historical data we conclude that each individual passenger has a 3% chance of missing it's flight. \n",
    "\n",
    "If the Ironhack Airlines routinely sells 460 tickets, what is the chance that they have a seats for all passenger?"
   ]
  },
  {
   "cell_type": "code",
   "execution_count": 5,
   "metadata": {},
   "outputs": [
    {
     "name": "stdout",
     "output_type": "stream",
     "text": [
      "The probability that there are enough seats for all passengers: 1.0\n"
     ]
    }
   ],
   "source": [
    "#code here\n",
    "from scipy.stats import bernoulli\n",
    "from scipy.stats import binom\n",
    "import matplotlib.pyplot as plt\n",
    "\n",
    "\n",
    "# n is equal to the number of tickets sold\n",
    "n = 460\n",
    "\n",
    "#p is the probability of success - the probability of each passenger get their flight)\n",
    "p = 0.97\n",
    "\n",
    "\n",
    "#Number of places available\n",
    "seats_available = 450\n",
    "\n",
    "# Calculate the probability that at least 'seats_available' passengers make their flight\n",
    "binom_dist = binom(n,p)\n",
    "\n",
    "prob_enough_seats = 1- binom_dist.cdf(2)\n",
    "\n",
    "print(\"The probability that there are enough seats for all passengers:\", prob_enough_seats)\n"
   ]
  },
  {
   "cell_type": "markdown",
   "metadata": {},
   "source": [
    "**Challenge 2**"
   ]
  },
  {
   "cell_type": "markdown",
   "metadata": {},
   "source": [
    "#### Ironhack Call Center "
   ]
  },
  {
   "cell_type": "markdown",
   "metadata": {},
   "source": [
    "Suppose a customer service representative at a call center is handling customer complaints. Consider the following:\n",
    "- The probability of successfully resolving a customer complaint on the first attempt is 0.3. \n",
    "\n",
    "\n",
    "What is the probability that the representative needs to make at least three attempts before successfully resolving a customer complaint?"
   ]
  },
  {
   "cell_type": "code",
   "execution_count": 4,
   "metadata": {},
   "outputs": [
    {
     "name": "stdout",
     "output_type": "stream",
     "text": [
      "The probability that the representative needs \n",
      "to make at least three attempts before successfully \n",
      "resolving a customer complaint is 0.14699999999999996\n"
     ]
    }
   ],
   "source": [
    "#code here\n",
    "#probability of success\n",
    "from scipy.stats import geom\n",
    "p = 0.3\n",
    "geom_dist = geom(p)\n",
    "print(f\"The probability that the representative needs \\nto make at least three attempts before successfully \\nresolving a customer complaint is {geom_dist.pmf(3)}\")"
   ]
  },
  {
   "cell_type": "markdown",
   "metadata": {},
   "source": [
    "**Challenge 3**"
   ]
  },
  {
   "cell_type": "markdown",
   "metadata": {},
   "source": [
    "#### Ironhack Website"
   ]
  },
  {
   "cell_type": "markdown",
   "metadata": {},
   "source": [
    "Consider a scenario related to Ironhack website traffic. Where:\n",
    "- our website takes on average 500 visits per hour.\n",
    "- the website's server is designed to handle up to 550 vists per hour.\n",
    "\n",
    "\n",
    "What is the probability of the website server being overwhelmed?"
   ]
  },
  {
   "cell_type": "code",
   "execution_count": 5,
   "metadata": {},
   "outputs": [
    {
     "name": "stdout",
     "output_type": "stream",
     "text": [
      "Probability of server being overwhelmed: 0.01289822084039205\n"
     ]
    }
   ],
   "source": [
    "#code here\n",
    "\n",
    "from scipy.stats import poisson\n",
    "\n",
    "#average per hour\n",
    "average_visits_per_hour = 500\n",
    "\n",
    "# max number of visits a server can handle per hour\n",
    "server_capacity = 550\n",
    "\n",
    "# the probability of server being overwhelmed\n",
    "prob_overwhelmed = 1 - poisson.cdf(server_capacity, average_visits_per_hour)\n",
    "\n",
    "print(\"Probability of server being overwhelmed:\", prob_overwhelmed)"
   ]
  },
  {
   "cell_type": "markdown",
   "metadata": {},
   "source": [
    "What is the probability of being overwhelmed at some point during a day? (consider 24hours)"
   ]
  },
  {
   "cell_type": "code",
   "execution_count": 6,
   "metadata": {},
   "outputs": [
    {
     "name": "stdout",
     "output_type": "stream",
     "text": [
      "Probability of being overwhelmed at some point during the day: 0.2677043869515715\n"
     ]
    }
   ],
   "source": [
    "#code here\n",
    "\n",
    "prob_not_overwhelmed_per_hour = poisson.cdf(server_capacity, average_visits_per_hour)\n",
    "\n",
    "# Calculate the probability of not being overwhelmed in all 24 hours\n",
    "prob_not_overwhelmed_daily = prob_not_overwhelmed_per_hour ** 24\n",
    "\n",
    "# Probability of being overwhelmed at some point during the day\n",
    "prob_overwhelmed_daily = 1 - prob_not_overwhelmed_daily\n",
    "\n",
    "print(\"Probability of being overwhelmed at some point during the day:\", prob_overwhelmed_daily)"
   ]
  },
  {
   "cell_type": "markdown",
   "metadata": {},
   "source": [
    "**Challenge 4**"
   ]
  },
  {
   "cell_type": "markdown",
   "metadata": {},
   "source": [
    "#### Ironhack Helpdesk"
   ]
  },
  {
   "cell_type": "markdown",
   "metadata": {},
   "source": [
    "Consider a scenario related to the time between arrivals of customers at a service desk.\n",
    "\n",
    "On average, a customers arrives every 10minutes.\n",
    "\n",
    "What is the probability that the next customer will arrive within the next 5 minutes?"
   ]
  },
  {
   "cell_type": "code",
   "execution_count": 1,
   "metadata": {},
   "outputs": [
    {
     "name": "stdout",
     "output_type": "stream",
     "text": [
      "The probability that the next customer will arrive within the next 5 minutes is: 0.3935\n"
     ]
    }
   ],
   "source": [
    "from scipy.stats import expon\n",
    "\n",
    "\n",
    "average_arrival_time = 10  \n",
    "\n",
    "time = 5 \n",
    "\n",
    "\n",
    "probability = expon.cdf(time, scale = average_arrival_time)\n",
    "\n",
    "print(f\"The probability that the next customer will arrive within the next 5 minutes is: {probability:.4f}\")"
   ]
  },
  {
   "cell_type": "markdown",
   "metadata": {},
   "source": [
    "If there is no customer for 15minutes, employees can that a 5minutes break.\n",
    "\n",
    "What is the probability an employee taking a break?"
   ]
  },
  {
   "cell_type": "code",
   "execution_count": 14,
   "metadata": {},
   "outputs": [
    {
     "name": "stdout",
     "output_type": "stream",
     "text": [
      "The probability that an employee can take a break (no customer for 15 minutes) is: 0.2231\n"
     ]
    }
   ],
   "source": [
    "from scipy.stats import expon\n",
    "\n",
    "lambda_value = 1 / 10  \n",
    "time = 15 \n",
    "\n",
    "exp_dist = expon(scale=1/lambda_value) \n",
    "\n",
    "probability = exp_dist.sf(time)\n",
    "\n",
    "print(f\"The probability that an employee can take a break (no customer for 15 minutes) is: {probability:.4f}\")"
   ]
  },
  {
   "cell_type": "markdown",
   "metadata": {},
   "source": [
    "**Challenge 5**"
   ]
  },
  {
   "cell_type": "markdown",
   "metadata": {},
   "source": [
    "The weights of a certain species of birds follow a normal distribution with a mean weight of 150 grams and a standard deviation of 10 grams. \n",
    "\n",
    "- If we randomly select a bird, what is the probability that its weight is between 140 and 160 grams?"
   ]
  },
  {
   "cell_type": "code",
   "execution_count": 15,
   "metadata": {},
   "outputs": [
    {
     "name": "stdout",
     "output_type": "stream",
     "text": [
      "The probability of the bird's weigth being between 160 cm and 140 cm is 0.6826894921370859\n"
     ]
    }
   ],
   "source": [
    "#code here\n",
    "from scipy.stats import norm\n",
    "\n",
    "mean = 150\n",
    "std = 10\n",
    "\n",
    "norm_dist = norm(loc = mean, scale = std)\n",
    "print(f\"The probability of the bird's weigth being between 160 cm and 140 cm is {norm_dist.cdf(160) - norm_dist.cdf(140)}\")"
   ]
  },
  {
   "cell_type": "markdown",
   "metadata": {},
   "source": [
    "**Challenge 6**"
   ]
  },
  {
   "cell_type": "markdown",
   "metadata": {},
   "source": [
    "If the lifetime (in hours) of a certain electronic component follows an exponential distribution with a mean lifetime of 50 hours, what is the probability that the component fails within the first 30 hours?"
   ]
  },
  {
   "cell_type": "code",
   "execution_count": 16,
   "metadata": {},
   "outputs": [
    {
     "name": "stdout",
     "output_type": "stream",
     "text": [
      "Probability that the component fails within the first 30 hours: 0.4511883639059735\n"
     ]
    }
   ],
   "source": [
    "mean_lifetime = 50\n",
    "\n",
    "lambda_ = 1 / mean_lifetime\n",
    "\n",
    "time_until_failure = 30\n",
    "\n",
    "probability = expon.cdf(time_until_failure, scale=mean_lifetime)\n",
    "\n",
    "print(\"Probability that the component fails within the first 30 hours:\", probability)\n"
   ]
  },
  {
   "cell_type": "code",
   "execution_count": null,
   "metadata": {},
   "outputs": [],
   "source": []
  }
 ],
 "metadata": {
  "kernelspec": {
   "display_name": "Python 3",
   "language": "python",
   "name": "python3"
  },
  "language_info": {
   "codemirror_mode": {
    "name": "ipython",
    "version": 3
   },
   "file_extension": ".py",
   "mimetype": "text/x-python",
   "name": "python",
   "nbconvert_exporter": "python",
   "pygments_lexer": "ipython3",
   "version": "3.11.7"
  }
 },
 "nbformat": 4,
 "nbformat_minor": 2
}
